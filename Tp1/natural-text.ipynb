{
 "cells": [
  {
   "cell_type": "markdown",
   "id": "ad6a5d10",
   "metadata": {},
   "source": [
    "### vocabulaire \n",
    "Le fichier contient un récit rédigé en anglais. Contrairement à un code informatique écrit dans un langage de programmation, qui repose sur un vocabulaire restreint et des règles précises, un récit offre une plus grande liberté d’expression. Il peut s’appuyer sur l’ensemble des mots de la langue anglaise pour décrire une situation,ce qui réduit la probabilité d’avoir de nombreuses répétitions de groupe de caractères.\n"
   ]
  },
  {
   "cell_type": "markdown",
   "id": "bd6e79cf",
   "metadata": {},
   "source": [
    "### fréquences de caractères\n",
    "Le code suivant permet de visualiser la fréquence des caractères présents dans le texte."
   ]
  },
  {
   "cell_type": "code",
   "execution_count": 3,
   "id": "e425bb5a",
   "metadata": {},
   "outputs": [
    {
     "name": "stdout",
     "output_type": "stream",
     "text": [
      "{'I': 1, 'n': 116, ' ': 479, 't': 174, 'h': 156, 'e': 316, 'q': 4, 'u': 61, 'i': 142, 'v': 30, 'l': 114, 'a': 167, 'g': 57, 'o': 122, 'f': 52, 'L': 8, 'm': 43, 'è': 6, 'r': 171, ',': 62, 's': 140, 'd': 99, 'P': 2, 'c': 46, 'w': 49, 'y': 24, 'b': 33, '.': 41, 'M': 13, 'k': 20, \"'\": 1, 'T': 10, 'S': 7, '\\n': 18, 'E': 1, 'O': 2, 'D': 1, 'p': 24, 'H': 5, '’': 4, 'C': 1, 'é': 1, 'A': 3, 'z': 2, 'W': 1, 'Y': 1}\n"
     ]
    },
    {
     "data": {
      "image/png": "[encoded data removed]",
      "text/plain": [
       "<Figure size 640x480 with 1 Axes>"
      ]
     },
     "metadata": {},
     "output_type": "display_data"
    }
   ],
   "source": [
    "import pandas as pd\n",
    "import matplotlib.pyplot as plt\n",
    "\n",
    "NATURAL_TEXT_PATH = \"./assets/text_natural_1.txt\"\n",
    "f= open(NATURAL_TEXT_PATH, \"r\")\n",
    "\n",
    "textString = f.read()\n",
    "\n",
    "data = {}\n",
    "\n",
    "for char in textString :\n",
    "    if(data.get(char)) :\n",
    "        data[char] += 1\n",
    "    else : \n",
    "        data.setdefault(char, 1)\n",
    "\n",
    "print(data)\n",
    "\n",
    "plt.bar(data.keys(), data.values())\n",
    "\n",
    "plt.title(\"frequences des characteres\")\n",
    "\n",
    "plt.show()"
   ]
  },
  {
   "cell_type": "markdown",
   "id": "505c5968",
   "metadata": {},
   "source": [
    "### fréquences de groupes de characteres (taille > 2 chars)\n",
    "Le code suivant permet de visualiser la fréquence des groupes de characteres présents dans le texte."
   ]
  },
  {
   "cell_type": "code",
   "execution_count": 26,
   "id": "f9805e30",
   "metadata": {},
   "outputs": [
    {
     "name": "stdout",
     "output_type": "stream",
     "text": [
      "54665662266\n",
      "{'66': (2, 3)}\n"
     ]
    }
   ],
   "source": [
    "NATURAL_TEXT_PATH = \"./assets/text_natural_1.txt\"\n",
    "f= open(NATURAL_TEXT_PATH, \"r\")\n",
    "\n",
    "textString = f.read()\n",
    "\n",
    "charDict = {}\n",
    "\n",
    "sampleSize = 2\n",
    "\n",
    "charDictFiltered = {}\n",
    "\n",
    "while sampleSize < len(textString) :\n",
    "    i = 0\n",
    "    while i + sampleSize <= len(textString)  :\n",
    "        sample = textString[i:i+sampleSize]\n",
    "\n",
    "        if (not sample in charDict) : \n",
    "            charDict.setdefault(sample, (sampleSize, 1))\n",
    "        else : \n",
    "    \n",
    "            charDict[sample] = (sampleSize, charDict[sample][1] + 1)\n",
    "        \n",
    "        i += 1\n",
    "    \n",
    "    sampleSize += 1\n",
    "\n",
    "    \n",
    "\n",
    "    for key in charDict :\n",
    "        if charDict[key][1] >= 2 :\n",
    "            charDictFiltered.setdefault(key, charDict[key])\n",
    "\n",
    "print(charDictFiltered)"
   ]
  }
 ],
 "metadata": {
  "kernelspec": {
   "display_name": ".venv",
   "language": "python",
   "name": "python3"
  },
  "language_info": {
   "codemirror_mode": {
    "name": "ipython",
    "version": 3
   },
   "file_extension": ".py",
   "mimetype": "text/x-python",
   "name": "python",
   "nbconvert_exporter": "python",
   "pygments_lexer": "ipython3",
   "version": "3.13.1"
  }
 },
 "nbformat": 4,
 "nbformat_minor": 5
}
